{
 "cells": [
  {
   "cell_type": "code",
   "execution_count": 6,
   "metadata": {},
   "outputs": [
    {
     "name": "stdout",
     "output_type": "stream",
     "text": [
      "+-----------------------+\n",
      "|  MENU DE OPERAÇÕES |\n",
      "+-----------------------+\n",
      "| 1 - somar           |\n",
      "| 2 - subtrair        |\n",
      "| 3 - multiplicar     |\n",
      "| 4 - dividir         |\n",
      "| 0 - sair            |\n",
      "+-----------------------+\n",
      "\n",
      "O resultado da multiplicação é:   32\n",
      "+-----------------------+\n",
      "|  MENU DE OPERAÇÕES |\n",
      "+-----------------------+\n",
      "| 1 - somar           |\n",
      "| 2 - subtrair        |\n",
      "| 3 - multiplicar     |\n",
      "| 4 - dividir         |\n",
      "| 0 - sair            |\n",
      "+-----------------------+\n"
     ]
    }
   ],
   "source": [
    "#calculadora \n",
    "\n",
    "def soma(n1,n2):\n",
    "    return n1+n2\n",
    "\n",
    "def subtrai (n1,n2):\n",
    "    return n1-n2\n",
    "\n",
    "def multiplica(n1,n2):\n",
    "    return n1*n2\n",
    "\n",
    "def divide(n1,n2):\n",
    "    if n2 == 0:\n",
    "        raise ValueError(\"Não é possível dividir por zero\")\n",
    "    return n1/n2\n",
    "\n",
    "\n",
    "while True: \n",
    "    print(\"+-\" + \"-\" * 21 + \"-+\")\n",
    "    print(\"|  MENU DE OPERAÇÕES |\")\n",
    "    print(\"+-\" + \"-\" * 21 + \"-+\")\n",
    "    print(\"| 1 - somar           |\")\n",
    "    print(\"| 2 - subtrair        |\")\n",
    "    print(\"| 3 - multiplicar     |\")\n",
    "    print(\"| 4 - dividir         |\")\n",
    "    print(\"| 0 - sair            |\")\n",
    "    print(\"+-\" + \"-\" * 21 + \"-+\") \n",
    "\n",
    "\n",
    "\n",
    "    op = int(input(\"Insira o número das operações desejadas.\"))\n",
    "    if op == 0:\n",
    "        break\n",
    "\n",
    "    n1 = int (input(\"Primeiro número:  \"))\n",
    "    n2 = int (input(\"Segundo número:  \"))\n",
    "      \n",
    "\n",
    " \n",
    "\n",
    "    if op==1:\n",
    "        print(\"\\nO resultado da soma é:  \", soma(n1,n2))\n",
    "    elif op==2:\n",
    "        print(\"\\nO resultado da subtração é:  \", subtrai(n1,n2))\n",
    "    elif op==3:\n",
    "        print(\"\\nO resultado da multiplicação é:  \", multiplica(n1,n2))\n",
    "    elif op==4:\n",
    "        try:\n",
    "            resultado = divide(n1, n2)\n",
    "            print(\"\\nO resultado da divisão é:  \", divide(n1,n2))\n",
    "        except ValueError as e:\n",
    "            print(\"\\n\", e)\n",
    "            break\n",
    "\n",
    "    else:\n",
    "        print(\"\\nPor favor, digite uma das opções.\")\n",
    "        break"
   ]
  }
 ],
 "metadata": {
  "kernelspec": {
   "display_name": "Python 3",
   "language": "python",
   "name": "python3"
  },
  "language_info": {
   "codemirror_mode": {
    "name": "ipython",
    "version": 3
   },
   "file_extension": ".py",
   "mimetype": "text/x-python",
   "name": "python",
   "nbconvert_exporter": "python",
   "pygments_lexer": "ipython3",
   "version": "3.11.9"
  }
 },
 "nbformat": 4,
 "nbformat_minor": 2
}
